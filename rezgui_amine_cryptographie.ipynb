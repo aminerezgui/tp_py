{
 "cells": [
  {
   "cell_type": "markdown",
   "metadata": {},
   "source": [
    "Choix n°3 du chapitre à rendre : Cryptographie"
   ]
  },
  {
   "cell_type": "markdown",
   "metadata": {},
   "source": [
    "Exo 11.1"
   ]
  },
  {
   "cell_type": "markdown",
   "metadata": {},
   "source": [
    "a)"
   ]
  },
  {
   "cell_type": "code",
   "execution_count": 8,
   "metadata": {},
   "outputs": [],
   "source": [
    "def to_int(s):\n",
    "\treturn ord(s) - 65"
   ]
  },
  {
   "cell_type": "code",
   "execution_count": 9,
   "metadata": {},
   "outputs": [
    {
     "data": {
      "text/plain": [
       "4"
      ]
     },
     "execution_count": 9,
     "metadata": {},
     "output_type": "execute_result"
    }
   ],
   "source": [
    "to_int('E')"
   ]
  },
  {
   "cell_type": "code",
   "execution_count": 10,
   "metadata": {},
   "outputs": [],
   "source": [
    "def to_chr(i):\n",
    "\treturn chr(i + 65)"
   ]
  },
  {
   "cell_type": "code",
   "execution_count": 11,
   "metadata": {},
   "outputs": [
    {
     "data": {
      "text/plain": [
       "'E'"
      ]
     },
     "execution_count": 11,
     "metadata": {},
     "output_type": "execute_result"
    }
   ],
   "source": [
    "to_chr(4)"
   ]
  },
  {
   "cell_type": "markdown",
   "metadata": {},
   "source": [
    "b)"
   ]
  },
  {
   "cell_type": "code",
   "execution_count": 12,
   "metadata": {},
   "outputs": [],
   "source": [
    "def crypt(text, key):\n",
    "\tv = [to_int(k) for k in key]\n",
    "\tl= list(text)\n",
    "\tn1 = len(v)\n",
    "\tn2 = len(l)\n",
    "\ti = 0\n",
    "\tfor k in range(n2):\n",
    "\t\tl[k] = to_chr((to_int(l[k]) + v[i]) % 26)\n",
    "\t\ti = i + 1\n",
    "\t\ti = i % n1\n",
    "\treturn \"\".join(l)"
   ]
  },
  {
   "cell_type": "code",
   "execution_count": 13,
   "metadata": {},
   "outputs": [
    {
     "data": {
      "text/plain": [
       "'EPGKPWVFRGIIOAPG'"
      ]
     },
     "execution_count": 13,
     "metadata": {},
     "output_type": "execute_result"
    }
   ],
   "source": [
    "crypt(\"CECIESTUNEXEMPLE\", \"CLE\")"
   ]
  },
  {
   "cell_type": "markdown",
   "metadata": {},
   "source": [
    "c)"
   ]
  },
  {
   "cell_type": "code",
   "execution_count": 14,
   "metadata": {},
   "outputs": [],
   "source": [
    "def decrypt(text, key):\n",
    "\tv = [to_int(k) for k in key]\n",
    "\tl= list(text)\n",
    "\tn1 = len(v)\n",
    "\tn2 = len(l)\n",
    "\ti = 0\n",
    "\tfor k in range(n2):\n",
    "\t\tl[k] = to_chr((to_int(l[k]) - v[i]) % 26)\n",
    "\t\ti = i + 1\n",
    "\t\ti = i % n1\n",
    "\treturn \"\".join(l)"
   ]
  },
  {
   "cell_type": "code",
   "execution_count": 15,
   "metadata": {},
   "outputs": [
    {
     "data": {
      "text/plain": [
       "'CECIESTUNEXEMPLE'"
      ]
     },
     "execution_count": 15,
     "metadata": {},
     "output_type": "execute_result"
    }
   ],
   "source": [
    "decrypt('EPGKPWVFRGIIOAPG', \"CLE\")"
   ]
  },
  {
   "cell_type": "markdown",
   "metadata": {},
   "source": [
    "Exo 11.2"
   ]
  },
  {
   "cell_type": "markdown",
   "metadata": {},
   "source": [
    "a)"
   ]
  },
  {
   "cell_type": "code",
   "execution_count": 16,
   "metadata": {},
   "outputs": [],
   "source": [
    "def pgcd(a, b):\n",
    "\tr = a % b\n",
    "\twhile(r != 0):\n",
    "\t\ta = b\n",
    "\t\tb = r\n",
    "\t\tr = a % b\n",
    "\treturn b"
   ]
  },
  {
   "cell_type": "code",
   "execution_count": 17,
   "metadata": {},
   "outputs": [
    {
     "data": {
      "text/plain": [
       "8"
      ]
     },
     "execution_count": 17,
     "metadata": {},
     "output_type": "execute_result"
    }
   ],
   "source": [
    "pgcd(24, 64)"
   ]
  },
  {
   "cell_type": "code",
   "execution_count": 18,
   "metadata": {},
   "outputs": [],
   "source": [
    "def pgcd_list(l):\n",
    "\td = l[0]\n",
    "\tn = len(l)\n",
    "\tfor i in range(1, n):\n",
    "\t\td = pgcd(d, l[i])\n",
    "\treturn d"
   ]
  },
  {
   "cell_type": "code",
   "execution_count": 19,
   "metadata": {},
   "outputs": [
    {
     "data": {
      "text/plain": [
       "4"
      ]
     },
     "execution_count": 19,
     "metadata": {},
     "output_type": "execute_result"
    }
   ],
   "source": [
    "pgcd_list([24, 64, 4])"
   ]
  },
  {
   "cell_type": "markdown",
   "metadata": {},
   "source": [
    "b)"
   ]
  },
  {
   "cell_type": "code",
   "execution_count": 24,
   "metadata": {},
   "outputs": [],
   "source": [
    "import unicodedata, re\n",
    "\n",
    "def convert_upper(s):\n",
    "    s = unicodedata.normalize('NFKD', s)\n",
    "    s = s.upper()\n",
    "    autre = re.compile('[^A-Z]')\n",
    "    s = autre.sub('', s)\n",
    "    return s"
   ]
  },
  {
   "cell_type": "markdown",
   "metadata": {},
   "source": [
    "c)"
   ]
  },
  {
   "cell_type": "code",
   "execution_count": 25,
   "metadata": {},
   "outputs": [],
   "source": [
    "f = open(\"text.txt\", 'r')\n",
    "text = f.read(5000)      #en fait avec 5000 caractère c'est plus précis\n",
    "'''n = len(text)         mais on peut toujours evaluer la pertinence du code avec 1000 caractères au milieu\n",
    "f.seek(n/2.0)\n",
    "text = f.read(999)'''\n",
    "f.close()\n",
    "\n",
    "text = convert_upper(text)\n",
    "textcrypte = crypt(text, \"LINUX\")"
   ]
  },
  {
   "cell_type": "code",
   "execution_count": 22,
   "metadata": {},
   "outputs": [
    {
     "data": {
      "text/plain": [
       "'URSUSETAITREMARQUABLEDANSLESOLILOQUEDUNECOMPLEXIONFAROUCHEETBAVARDEAYANTLEDESIRDENEVOIRPERSONNEETLEBESOINDEPARLERAQUELQUUNILSETIRAITDAFFAIREENSEPARLANTALUIMEMEQUICONQUEAVECUSOLITAIRESAITAQUELPOINTLEMONOLOGUEESTDANSLANATURELAPAROLEINTERIEUREDEMANGEHARANGUERLESPACEESTUNEXUTOIREPARLERTOUTHAUTETTOUTSEULCELAFAITLEFFETDUNDIALOGUEAVECLEDIEUQUONAENSOICETAITONNELIGNOREPOINTLHABITUDEDESOCRATEILSEPERORAITLUTHERAUSSIURSUSTENAITDECESGRANDSHOMMESILAVAITCETTEFACULTEHERMAPHRODITEDETRESONPROPREAUDITOIREILSINTERROGEAITETSEREPONDAITILSEGLORIFIAITETSINSULTAITONLENTENDAITDELARUEMONOLOGUERDANSSACAHUTELESPASSANTSQUIONTLEURMANIEREAEUXDAPPRECIERLESGENSDESPRITDISAIENTCESTUNIDIOTILSINJURIAITPARFOISNOUSVENONSDELEDIREMAISILYAVAITAUSSIDESHEURESOUILSERENDAITJUSTICEUNJOURDANSUNEDECESALLOCUTIONSQUILSADRESSAITALUIMEMEONLENTENDITCRIERJAIETUDIELEVEGETALDANSTOUSSESMYSTERESDANSLATIGEDANSLEBOURGEONDANSLASEPALEDANSLEPETALEDANSLETAMINEDANSLACARPELLEDANSLOVULEDANSLATHEQUEDANSLASPORANGEETDANSLAPOTHECIONJAIAPPROFONDILACHROMATIELOSMOSIEETLACHYMOSIECESTADIRELAFORMATIONDELACOULEURDELODEURETDELASAVEURILYAVAITSANSDOUTEDANSCECERTIFICATQUURSUSDELIVRAITAURSUSQUELQUEFATUITEMAISQUECEUXQUINONTPOINTAPPROFONDILACHROMATIELOSMOSIEETLACHYMOSIELUIJETTENTLAPREMIEREPIERREHEUREUSEMENTURSUSNETAITJAMAISALLEDANSLESPAYSBASONLYEUTCERTAINEMENTVOULUPESERPOURSAVOIRSILAVAITLEPOIDSNORMALAUDELAOUENDECADUQUELUNHOMMEESTSORCIERCEPOIDSENHOLLANDEETAITSAGEMENTFIXEPARLALOIRIENNETAITPLUSSIMPLEETPLUSINGENIEUXCETAITUNEVERIFICATIONONVOUSMETTAITDANSUNPLATEAUETLEVIDENCEECLATAITSIVOUSROMPIEZLEQUILIBRETROPLOURDVOUSETIEZPENDUTROPLEGERVOUSETIEZBRULEONPEUTVOIRENCOREAUJOURDHUIAOUDEWATERLABALANCEAPESERLESSORCIERSMAISELLESERTMAINTENANTAPESERLESFROMAGESTANTLARELIGIONADEGENEREURSUSEUTEUCERTAINEMENTMAILLEAPARTIRAVECCETTEBALANCEDANSSESVOYAGESILSABSTINTDELAHOLLANDEETFITBIENDURESTENOUSCROYONSQUILNESORTAITPOINTDELAGRANDEBRETAGNEQUOIQUILENFUTETANTTRESPAUVREETTRESAPREETAYANTFAITDANSUNBOISLACONNAISSANCEDHOMOLEGOUTDELAVIEERRANTELUIETAITVENUILAVAITPRISCELOUPENCOMMANDITEETILSENETAITALLEAVECLUIPARLESCHEMINSVIVANTALAIRLIBREDELAGRANDEVIEDUHASARDILAVAITBEAUCOUPDINDUSTRIEETDARRIEREPENSEEETUNGRANDARTENTOUTECHOSEPOURGUERIROPERERTIRERLESGENSDEMALADIEETACCOMPLIRDESPARTICULARITESSURPRENANTESILETAITCONSIDERECOMMEBONSALTIMBANQUEETBONMEDECINILPASSAITAUSSIONLECOMPRENDPOURMAGICIENUNPEUPASTROPCARILETAITMALSAINACELLEEPOQUEDETRECRUAMIDUDIABLEAVRAIDIREURSUSPARPASSIONDEPHARMACIEETAMOURDESPLANTESSEXPOSAITVUQUILALLAITSOUVENTCUEILLIRDESHERBESDANSLESFOURRESBOURRUSOUSONTLESSALADESDELUCIFERETOULONRISQUECOMMELACONSTATELECONSEILLERDELANCREDERENCONTRERDANSLABROUEEDUSOIRUNHOMMEQUISORTDETERREBORGNEDELILDROITSANSMANTEAULEPEEAUCOTEPIEDSNUSETDESCHAUXURSUSDURESTEQUOIQUEDALLUREETDETEMPERAMENTBIZARRESETAITTROPGALANTHOMMEPOURATTIREROUCHASSERLAGRELEFAIREPARAITREDESFACESTUERUNHOMMEDUTOURMENTDETROPDANSERSUGGERERDESSONGESCLAIRSOUTRISLESETPLEINSDEFFROIETFAIRENAITREDESCOQSAQUATREAILESILNAVAITPASDECESMECHANCETESLAILETAITINCAPABLEDECERTAINESABOMINATIONSCOMMEPAREXEMPLEDEPARLERALLEMANDHEBREUOUGRECSANSLAVOIRAPPRISCEQUIESTLESIGNEDUNESCELERATESSEEXECRABLEOUDUNEMALADIENATURELLEPROCEDANTDEQUELQUEHUMEURMELANCOLIQUESIURSUSPARLAITLATINCESTQUILLESAVAITILNESESERAITPOINTPERMISDEPARLERSYRIAQUEATTENDUQUILNELESAVAITPASENOUTREILESTAVEREQUELESYRIAQUEESTLALANGUEDESSABBATSENMEDECINEILPREFERAITCORRECTEMENTGALLIENACARDANCARDANTOUTSAVANTHOMMEQUILESTNETANTQUUNVERDETERREAURESPECTDEGALLIENENSOMMEURSUSNETAITPOINTUNPERSONNAGEINQUIETEPARLAPOLICESACAHUTEETAITASSEZLONGUEETASSEZLARGEPOURQUILPUTSYCOUCHERSURUNCOFFREOUETAIENTSESHARDESPEUSOMPTUEUSESILETAITPROPRIETAIREDUNELANTERNEDEPLUSIEURSPERRUQUESETDEQUELQUESUSTENSILESACCROCHESADESCLOUSPARMILESQUELSDESINSTRUMENTSDEMUSIQUEILPOSSEDAITENOUTREUNEPEAUDOURSDONTILSECOUVRAITLESJOURSDEGRANDEPERFORMANCEILAPPELAITCELASEMETTREENCOSTUMEILDISAITJAIDEUXPEAUXVOICILAVRAIEETILMONTRAITLAPEAUDOURSLACAHUTEAROUESETAITALUIETAULOUPOUTRESACAHUTESACORNUEETSONLOUPILAVAITUNEFLUTE'"
      ]
     },
     "execution_count": 22,
     "metadata": {},
     "output_type": "execute_result"
    }
   ],
   "source": [
    "text"
   ]
  },
  {
   "cell_type": "code",
   "execution_count": 23,
   "metadata": {},
   "outputs": [
    {
     "data": {
      "text/plain": [
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
      ]
     },
     "execution_count": 23,
     "metadata": {},
     "output_type": "execute_result"
    }
   ],
   "source": [
    "textcrypte"
   ]
  },
  {
   "cell_type": "code",
   "execution_count": 7,
   "metadata": {},
   "outputs": [],
   "source": [
    "def occu(s, to): #le dictionnaire des occurences, to pour taille des occurences\n",
    "    d = {}\n",
    "    n = len(s)\n",
    "    for i in range(n - (to - 1)):\n",
    "        occu = s[i : i + to]     #occu est une chaine de taille to\n",
    "        if not(occu in d):\n",
    "            for k in range(i + to, n - (to - 1)):\n",
    "                test = s[k : k + to] #à occu fixé, test parcourt les autres chaines de taille to\n",
    "                if occu == test: #si ça match alors on a une occurence\n",
    "                    if not(occu in d):\n",
    "                        d[occu] = [i, k] #on enregistre les positions\n",
    "                    else:\n",
    "                        d[occu] = d[occu] + [k] #encore des autres positions si ça match encore\n",
    "    return d"
   ]
  },
  {
   "cell_type": "code",
   "execution_count": 28,
   "metadata": {},
   "outputs": [
    {
     "data": {
      "text/plain": [
       "{'CECI': [0, 4, 8],\n",
       " 'ECIC': [1, 5],\n",
       " 'CICE': [2, 6],\n",
       " 'ICEC': [3, 7],\n",
       " 'POUR': [24, 28],\n",
       " 'RCHE': [31, 35],\n",
       " 'CHER': [32, 36]}"
      ]
     },
     "execution_count": 28,
     "metadata": {},
     "output_type": "execute_result"
    }
   ],
   "source": [
    "occu(\"CECICECICECIESTUNEXEMPLEPOURPOURCHERCHERLESOCCURENCESDETAILLEQUATRE\", 4)"
   ]
  },
  {
   "cell_type": "code",
   "execution_count": 30,
   "metadata": {},
   "outputs": [],
   "source": [
    "def list_dist(d): #la liste des distances\n",
    "    L = []\n",
    "    for o in d:\n",
    "        l = d[o]\n",
    "        n = len(l)\n",
    "        for i in range(n - 1):\n",
    "            L = L + [abs(l[i] - l[i + 1])]\n",
    "    return L"
   ]
  },
  {
   "cell_type": "code",
   "execution_count": 31,
   "metadata": {},
   "outputs": [
    {
     "data": {
      "text/plain": [
       "[4, 4, 4, 4, 4, 4, 4, 4]"
      ]
     },
     "execution_count": 31,
     "metadata": {},
     "output_type": "execute_result"
    }
   ],
   "source": [
    "list_dist({'CECI': [0, 4, 8],\n",
    " 'ECIC': [1, 5],\n",
    " 'CICE': [2, 6],\n",
    " 'ICEC': [3, 7],\n",
    " 'POUR': [24, 28],\n",
    " 'RCHE': [31, 35],\n",
    " 'CHER': [32, 36]})"
   ]
  },
  {
   "cell_type": "code",
   "execution_count": 62,
   "metadata": {},
   "outputs": [],
   "source": [
    "def tc(textcrypte): #la taille de la cle (tc)\n",
    "    to = 4 #on commencera directement par les occurences de taille 4\n",
    "    tc = pgcd_list(list_dist(occu(textcrypte, to)))\n",
    "    while(tc < 3): #considèrons qu'une clé trop petite est une clé de taile 1 ou 2\n",
    "        to = to + 1 #on agumente la taille des occurences pour plus de précision\n",
    "        tc = pgcd_list(list_dist(occu(textcrypte, to)))\n",
    "    return tc"
   ]
  },
  {
   "cell_type": "code",
   "execution_count": 63,
   "metadata": {},
   "outputs": [
    {
     "data": {
      "text/plain": [
       "5"
      ]
     },
     "execution_count": 63,
     "metadata": {},
     "output_type": "execute_result"
    }
   ],
   "source": [
    "tc(textcrypte)"
   ]
  },
  {
   "cell_type": "markdown",
   "metadata": {},
   "source": [
    "d)"
   ]
  },
  {
   "cell_type": "code",
   "execution_count": 53,
   "metadata": {},
   "outputs": [],
   "source": [
    "def lpf(l): #la lettre la plus frequente dans une liste de lettre (lpf)\n",
    "    x = [chr(i) for i in range(65, 65 + 26)] #alphabet en majuscule\n",
    "    d = dict((i, 0) for i in x)#dictionnaire de l'alphabet(en clé) avec compteur à 0 en valeur\n",
    "    for i in l:\n",
    "        d[i] = d[i] + 1 #on incremente la valeur associé à la lettre rencontrée dans la liste\n",
    "    c = d[\"A\"]\n",
    "    g = \"A\"\n",
    "    for i in d:\n",
    "        if d[i] > c: #on chope le max des valeurs sans oublié la lettre associé\n",
    "            c = d[i]\n",
    "            g = i\n",
    "    return g"
   ]
  },
  {
   "cell_type": "code",
   "execution_count": 54,
   "metadata": {},
   "outputs": [
    {
     "data": {
      "text/plain": [
       "'E'"
      ]
     },
     "execution_count": 54,
     "metadata": {},
     "output_type": "execute_result"
    }
   ],
   "source": [
    "lpf(list(text))"
   ]
  },
  {
   "cell_type": "code",
   "execution_count": 56,
   "metadata": {},
   "outputs": [],
   "source": [
    "def cle(s, tc):\n",
    "    cle = '' \n",
    "    n = len(s)\n",
    "    for k in range(tc):       #à l'aide de la lettre $ (inconnu) de position k dans la cle\n",
    "        l = []                #formons la liste l\n",
    "        for i in range(n):\n",
    "            if i % tc == k: \n",
    "                l = l + [s[i]]#constitué des lettres du texte \"crypté\" qui ont subit le même décalage par la lettre $\n",
    "        cle = cle + to_chr((to_int(lpf(l)) - to_int(\"E\"))% 26) #ainsi pour deviner $, on part du principe que la lettre la plus frequente (lpf) est 'E' décalé de $\n",
    "    return cle"
   ]
  },
  {
   "cell_type": "code",
   "execution_count": 57,
   "metadata": {},
   "outputs": [
    {
     "data": {
      "text/plain": [
       "'LINUX'"
      ]
     },
     "execution_count": 57,
     "metadata": {},
     "output_type": "execute_result"
    }
   ],
   "source": [
    "cle(textcrypte, 5)"
   ]
  },
  {
   "cell_type": "code",
   "execution_count": 64,
   "metadata": {},
   "outputs": [
    {
     "data": {
      "text/plain": [
       "'URSUSETAITREMARQUABLEDANSLESOLILOQUEDUNECOMPLEXIONFAROUCHEETBAVARDEAYANTLEDESIRDENEVOIRPERSONNEETLEBESOINDEPARLERAQUELQUUNILSETIRAITDAFFAIREENSEPARLANTALUIMEMEQUICONQUEAVECUSOLITAIRESAITAQUELPOINTLEMONOLOGUEESTDANSLANATURELAPAROLEINTERIEUREDEMANGEHARANGUERLESPACEESTUNEXUTOIREPARLERTOUTHAUTETTOUTSEULCELAFAITLEFFETDUNDIALOGUEAVECLEDIEUQUONAENSOICETAITONNELIGNOREPOINTLHABITUDEDESOCRATEILSEPERORAITLUTHERAUSSIURSUSTENAITDECESGRANDSHOMMESILAVAITCETTEFACULTEHERMAPHRODITEDETRESONPROPREAUDITOIREILSINTERROGEAITETSEREPONDAITILSEGLORIFIAITETSINSULTAITONLENTENDAITDELARUEMONOLOGUERDANSSACAHUTELESPASSANTSQUIONTLEURMANIEREAEUXDAPPRECIERLESGENSDESPRITDISAIENTCESTUNIDIOTILSINJURIAITPARFOISNOUSVENONSDELEDIREMAISILYAVAITAUSSIDESHEURESOUILSERENDAITJUSTICEUNJOURDANSUNEDECESALLOCUTIONSQUILSADRESSAITALUIMEMEONLENTENDITCRIERJAIETUDIELEVEGETALDANSTOUSSESMYSTERESDANSLATIGEDANSLEBOURGEONDANSLASEPALEDANSLEPETALEDANSLETAMINEDANSLACARPELLEDANSLOVULEDANSLATHEQUEDANSLASPORANGEETDANSLAPOTHECIONJAIAPPROFONDILACHROMATIELOSMOSIEETLACHYMOSIECESTADIRELAFORMATIONDELACOULEURDELODEURETDELASAVEURILYAVAITSANSDOUTEDANSCECERTIFICATQUURSUSDELIVRAITAURSUSQUELQUEFATUITEMAISQUECEUXQUINONTPOINTAPPROFONDILACHROMATIELOSMOSIEETLACHYMOSIELUIJETTENTLAPREMIEREPIERREHEUREUSEMENTURSUSNETAITJAMAISALLEDANSLESPAYSBASONLYEUTCERTAINEMENTVOULUPESERPOURSAVOIRSILAVAITLEPOIDSNORMALAUDELAOUENDECADUQUELUNHOMMEESTSORCIERCEPOIDSENHOLLANDEETAITSAGEMENTFIXEPARLALOIRIENNETAITPLUSSIMPLEETPLUSINGENIEUXCETAITUNEVERIFICATIONONVOUSMETTAITDANSUNPLATEAUETLEVIDENCEECLATAITSIVOUSROMPIEZLEQUILIBRETROPLOURDVOUSETIEZPENDUTROPLEGERVOUSETIEZBRULEONPEUTVOIRENCOREAUJOURDHUIAOUDEWATERLABALANCEAPESERLESSORCIERSMAISELLESERTMAINTENANTAPESERLESFROMAGESTANTLARELIGIONADEGENEREURSUSEUTEUCERTAINEMENTMAILLEAPARTIRAVECCETTEBALANCEDANSSESVOYAGESILSABSTINTDELAHOLLANDEETFITBIENDURESTENOUSCROYONSQUILNESORTAITPOINTDELAGRANDEBRETAGNEQUOIQUILENFUTETANTTRESPAUVREETTRESAPREETAYANTFAITDANSUNBOISLACONNAISSANCEDHOMOLEGOUTDELAVIEERRANTELUIETAITVENUILAVAITPRISCELOUPENCOMMANDITEETILSENETAITALLEAVECLUIPARLESCHEMINSVIVANTALAIRLIBREDELAGRANDEVIEDUHASARDILAVAITBEAUCOUPDINDUSTRIEETDARRIEREPENSEEETUNGRANDARTENTOUTECHOSEPOURGUERIROPERERTIRERLESGENSDEMALADIEETACCOMPLIRDESPARTICULARITESSURPRENANTESILETAITCONSIDERECOMMEBONSALTIMBANQUEETBONMEDECINILPASSAITAUSSIONLECOMPRENDPOURMAGICIENUNPEUPASTROPCARILETAITMALSAINACELLEEPOQUEDETRECRUAMIDUDIABLEAVRAIDIREURSUSPARPASSIONDEPHARMACIEETAMOURDESPLANTESSEXPOSAITVUQUILALLAITSOUVENTCUEILLIRDESHERBESDANSLESFOURRESBOURRUSOUSONTLESSALADESDELUCIFERETOULONRISQUECOMMELACONSTATELECONSEILLERDELANCREDERENCONTRERDANSLABROUEEDUSOIRUNHOMMEQUISORTDETERREBORGNEDELILDROITSANSMANTEAULEPEEAUCOTEPIEDSNUSETDESCHAUXURSUSDURESTEQUOIQUEDALLUREETDETEMPERAMENTBIZARRESETAITTROPGALANTHOMMEPOURATTIREROUCHASSERLAGRELEFAIREPARAITREDESFACESTUERUNHOMMEDUTOURMENTDETROPDANSERSUGGERERDESSONGESCLAIRSOUTRISLESETPLEINSDEFFROIETFAIRENAITREDESCOQSAQUATREAILESILNAVAITPASDECESMECHANCETESLAILETAITINCAPABLEDECERTAINESABOMINATIONSCOMMEPAREXEMPLEDEPARLERALLEMANDHEBREUOUGRECSANSLAVOIRAPPRISCEQUIESTLESIGNEDUNESCELERATESSEEXECRABLEOUDUNEMALADIENATURELLEPROCEDANTDEQUELQUEHUMEURMELANCOLIQUESIURSUSPARLAITLATINCESTQUILLESAVAITILNESESERAITPOINTPERMISDEPARLERSYRIAQUEATTENDUQUILNELESAVAITPASENOUTREILESTAVEREQUELESYRIAQUEESTLALANGUEDESSABBATSENMEDECINEILPREFERAITCORRECTEMENTGALLIENACARDANCARDANTOUTSAVANTHOMMEQUILESTNETANTQUUNVERDETERREAURESPECTDEGALLIENENSOMMEURSUSNETAITPOINTUNPERSONNAGEINQUIETEPARLAPOLICESACAHUTEETAITASSEZLONGUEETASSEZLARGEPOURQUILPUTSYCOUCHERSURUNCOFFREOUETAIENTSESHARDESPEUSOMPTUEUSESILETAITPROPRIETAIREDUNELANTERNEDEPLUSIEURSPERRUQUESETDEQUELQUESUSTENSILESACCROCHESADESCLOUSPARMILESQUELSDESINSTRUMENTSDEMUSIQUEILPOSSEDAITENOUTREUNEPEAUDOURSDONTILSECOUVRAITLESJOURSDEGRANDEPERFORMANCEILAPPELAITCELASEMETTREENCOSTUMEILDISAITJAIDEUXPEAUXVOICILAVRAIEETILMONTRAITLAPEAUDOURSLACAHUTEAROUESETAITALUIETAULOUPOUTRESACAHUTESACORNUEETSONLOUPILAVAITUNEFLUTE'"
      ]
     },
     "execution_count": 64,
     "metadata": {},
     "output_type": "execute_result"
    }
   ],
   "source": [
    "decrypt(textcrypte, 'LINUX') #et on decrypte !"
   ]
  },
  {
   "cell_type": "markdown",
   "metadata": {},
   "source": [
    "Exo 11.3"
   ]
  },
  {
   "cell_type": "markdown",
   "metadata": {},
   "source": [
    "a)"
   ]
  },
  {
   "cell_type": "code",
   "execution_count": 65,
   "metadata": {},
   "outputs": [],
   "source": [
    "from random import randint\n",
    "import math\n",
    "\n",
    "def random_odd(k):\n",
    "    r = randint(2**(k - 1), 2**k)\n",
    "    while(r % 2 == 0): #tant que r est pair on regénère !\n",
    "        r = randint(2**(k - 1), 2**k)\n",
    "    return r"
   ]
  },
  {
   "cell_type": "code",
   "execution_count": 66,
   "metadata": {},
   "outputs": [
    {
     "data": {
      "text/plain": [
       "175664045022096043800616648023173355702189984982290868192567423017940870694321860703183173286359636491752030894792663412248603434941187350527816130874282933457046430403902963438874277407673407067175740586648563832139943164459854561688226642064360416035494778292411097405009673881296511067181763084017057692977"
      ]
     },
     "execution_count": 66,
     "metadata": {},
     "output_type": "execute_result"
    }
   ],
   "source": [
    "random_odd(1024)"
   ]
  },
  {
   "cell_type": "markdown",
   "metadata": {},
   "source": [
    "b)"
   ]
  },
  {
   "cell_type": "code",
   "execution_count": 67,
   "metadata": {},
   "outputs": [],
   "source": [
    "def isprime(n):\n",
    "    if n % 2 == 0 and n!= 2:\n",
    "        return False\n",
    "    d = 3\n",
    "    while(d <= math.sqrt(n)):\n",
    "        if n % d == 0:\n",
    "            return False\n",
    "        d = d + 2\n",
    "    return True"
   ]
  },
  {
   "cell_type": "code",
   "execution_count": 99,
   "metadata": {},
   "outputs": [
    {
     "data": {
      "text/plain": [
       "False"
      ]
     },
     "execution_count": 99,
     "metadata": {},
     "output_type": "execute_result"
    }
   ],
   "source": [
    "isprime(179713)"
   ]
  },
  {
   "cell_type": "markdown",
   "metadata": {},
   "source": [
    "c)"
   ]
  },
  {
   "cell_type": "code",
   "execution_count": 69,
   "metadata": {},
   "outputs": [],
   "source": [
    "def generate(k, primality):\n",
    "    r = random_odd(k)\n",
    "    while(not(primality(r))): #tant que r est non premier on regénère \n",
    "        r = random_odd(k)\n",
    "    return r"
   ]
  },
  {
   "cell_type": "code",
   "execution_count": 73,
   "metadata": {},
   "outputs": [
    {
     "data": {
      "text/plain": [
       "1114638346293863"
      ]
     },
     "execution_count": 73,
     "metadata": {},
     "output_type": "execute_result"
    }
   ],
   "source": [
    "generate(50, isprime) #isprime est trop lent pour determiner la primalité d'un nombre de 1024 bits !"
   ]
  },
  {
   "cell_type": "markdown",
   "metadata": {},
   "source": [
    "Exo 11.4"
   ]
  },
  {
   "cell_type": "markdown",
   "metadata": {},
   "source": [
    "a)"
   ]
  },
  {
   "cell_type": "code",
   "execution_count": 76,
   "metadata": {},
   "outputs": [],
   "source": [
    "def fermat_test(n):\n",
    "    for a in range(1, n):\n",
    "        if (a**(n-1) % n) != 1:\n",
    "            return False\n",
    "    return True"
   ]
  },
  {
   "cell_type": "code",
   "execution_count": 92,
   "metadata": {},
   "outputs": [
    {
     "data": {
      "text/plain": [
       "True"
      ]
     },
     "execution_count": 92,
     "metadata": {},
     "output_type": "execute_result"
    }
   ],
   "source": [
    "fermat_test(17971)"
   ]
  },
  {
   "cell_type": "code",
   "execution_count": 152,
   "metadata": {},
   "outputs": [],
   "source": [
    "def fermat_test1(n):\n",
    "    x = [randint(1, n - 1) for i in range(10)]\n",
    "    for a in x:\n",
    "        if (pow(a,n-1) % n) != 1:\n",
    "            return False\n",
    "    return True"
   ]
  },
  {
   "cell_type": "code",
   "execution_count": 174,
   "metadata": {},
   "outputs": [
    {
     "name": "stdout",
     "output_type": "stream",
     "text": [
      "CPU times: user 106 µs, sys: 0 ns, total: 106 µs\n",
      "Wall time: 109 µs\n"
     ]
    },
    {
     "data": {
      "text/plain": [
       "135649"
      ]
     },
     "execution_count": 174,
     "metadata": {},
     "output_type": "execute_result"
    }
   ],
   "source": [
    "%time generate(18, isprime)"
   ]
  },
  {
   "cell_type": "code",
   "execution_count": 175,
   "metadata": {},
   "outputs": [
    {
     "name": "stdout",
     "output_type": "stream",
     "text": [
      "CPU times: user 5.82 s, sys: 3 ms, total: 5.83 s\n",
      "Wall time: 5.85 s\n"
     ]
    },
    {
     "data": {
      "text/plain": [
       "144889"
      ]
     },
     "execution_count": 175,
     "metadata": {},
     "output_type": "execute_result"
    }
   ],
   "source": [
    "%time generate(18,fermat_test1)"
   ]
  },
  {
   "cell_type": "markdown",
   "metadata": {},
   "source": [
    "b)"
   ]
  },
  {
   "cell_type": "code",
   "execution_count": 177,
   "metadata": {},
   "outputs": [],
   "source": [
    "def fermat_test2(n):\n",
    "    y = [i for i in range(2, 1001) if isprime(i)]\n",
    "    for i in y:\n",
    "        if n % i == 0:\n",
    "            return False\n",
    "    x = [randint(1, n - 1) for i in range(10)]\n",
    "    for a in x:\n",
    "        if (a**(n-1) % n) != 1:\n",
    "            return False\n",
    "    return True"
   ]
  },
  {
   "cell_type": "code",
   "execution_count": 178,
   "metadata": {},
   "outputs": [
    {
     "name": "stdout",
     "output_type": "stream",
     "text": [
      "CPU times: user 2.41 s, sys: 2.97 ms, total: 2.41 s\n",
      "Wall time: 2.42 s\n"
     ]
    },
    {
     "data": {
      "text/plain": [
       "214469"
      ]
     },
     "execution_count": 178,
     "metadata": {},
     "output_type": "execute_result"
    }
   ],
   "source": [
    "%time generate(18, fermat_test2) #mes fonctions de test de fermat manque de performance, à savoir ..."
   ]
  }
 ],
 "metadata": {
  "kernelspec": {
   "display_name": "Python 3",
   "language": "python",
   "name": "python3"
  },
  "language_info": {
   "codemirror_mode": {
    "name": "ipython",
    "version": 3
   },
   "file_extension": ".py",
   "mimetype": "text/x-python",
   "name": "python",
   "nbconvert_exporter": "python",
   "pygments_lexer": "ipython3",
   "version": "3.6.6"
  }
 },
 "nbformat": 4,
 "nbformat_minor": 2
}
