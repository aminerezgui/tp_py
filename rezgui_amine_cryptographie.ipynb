{
 "cells": [
  {
   "cell_type": "markdown",
   "metadata": {},
   "source": [
    "Choix n°3 du chapitre à rendre : Cryptographie"
   ]
  },
  {
   "cell_type": "markdown",
   "metadata": {},
   "source": [
    "Exo 11.1"
   ]
  },
  {
   "cell_type": "markdown",
   "metadata": {},
   "source": [
    "a)"
   ]
  },
  {
   "cell_type": "code",
   "execution_count": 1,
   "metadata": {},
   "outputs": [],
   "source": [
    "def to_int(s):\n",
    "\treturn ord(s) - 65"
   ]
  },
  {
   "cell_type": "code",
   "execution_count": 2,
   "metadata": {},
   "outputs": [
    {
     "data": {
      "text/plain": [
       "4"
      ]
     },
     "execution_count": 2,
     "metadata": {},
     "output_type": "execute_result"
    }
   ],
   "source": [
    "to_int('E')"
   ]
  },
  {
   "cell_type": "code",
   "execution_count": 3,
   "metadata": {},
   "outputs": [],
   "source": [
    "def to_chr(i):\n",
    "\treturn chr(i + 65)"
   ]
  },
  {
   "cell_type": "code",
   "execution_count": 4,
   "metadata": {},
   "outputs": [
    {
     "data": {
      "text/plain": [
       "'E'"
      ]
     },
     "execution_count": 4,
     "metadata": {},
     "output_type": "execute_result"
    }
   ],
   "source": [
    "to_chr(4)"
   ]
  },
  {
   "cell_type": "markdown",
   "metadata": {},
   "source": [
    "b)"
   ]
  },
  {
   "cell_type": "code",
   "execution_count": 5,
   "metadata": {},
   "outputs": [],
   "source": [
    "def crypt(text, key):\n",
    "\tv = [to_int(k) for k in key]\n",
    "\tl= list(text)\n",
    "\tn1 = len(v)\n",
    "\tn2 = len(l)\n",
    "\ti = 0\n",
    "\tfor k in range(n2):\n",
    "\t\tl[k] = to_chr((to_int(l[k]) + v[i]) % 26)\n",
    "\t\ti = i + 1\n",
    "\t\ti = i % n1\n",
    "\treturn \"\".join(l)"
   ]
  },
  {
   "cell_type": "code",
   "execution_count": 7,
   "metadata": {},
   "outputs": [
    {
     "data": {
      "text/plain": [
       "'EPGKPWVFRGIIOAPG'"
      ]
     },
     "execution_count": 7,
     "metadata": {},
     "output_type": "execute_result"
    }
   ],
   "source": [
    "crypt(\"CECIESTUNEXEMPLE\", \"CLE\")"
   ]
  },
  {
   "cell_type": "markdown",
   "metadata": {},
   "source": [
    "c)"
   ]
  },
  {
   "cell_type": "code",
   "execution_count": 8,
   "metadata": {},
   "outputs": [],
   "source": [
    "def decrypt(text, key):\n",
    "\tv = [to_int(k) for k in key]\n",
    "\tl= list(text)\n",
    "\tn1 = len(v)\n",
    "\tn2 = len(l)\n",
    "\ti = 0\n",
    "\tfor k in range(n2):\n",
    "\t\tl[k] = to_chr((to_int(l[k]) - v[i]) % 26)\n",
    "\t\ti = i + 1\n",
    "\t\ti = i % n1\n",
    "\treturn \"\".join(l)"
   ]
  },
  {
   "cell_type": "code",
   "execution_count": 9,
   "metadata": {},
   "outputs": [
    {
     "data": {
      "text/plain": [
       "'CECIESTUNEXEMPLE'"
      ]
     },
     "execution_count": 9,
     "metadata": {},
     "output_type": "execute_result"
    }
   ],
   "source": [
    "decrypt('EPGKPWVFRGIIOAPG', \"CLE\")"
   ]
  },
  {
   "cell_type": "markdown",
   "metadata": {},
   "source": [
    "Exo 11.2"
   ]
  },
  {
   "cell_type": "markdown",
   "metadata": {},
   "source": [
    "a)"
   ]
  },
  {
   "cell_type": "code",
   "execution_count": 11,
   "metadata": {},
   "outputs": [],
   "source": [
    "def pgcd(a, b):\n",
    "\tr = a % b\n",
    "\twhile(r != 0):\n",
    "\t\ta = b\n",
    "\t\tb = r\n",
    "\t\tr = a % b\n",
    "\treturn b"
   ]
  },
  {
   "cell_type": "code",
   "execution_count": 12,
   "metadata": {},
   "outputs": [
    {
     "data": {
      "text/plain": [
       "8"
      ]
     },
     "execution_count": 12,
     "metadata": {},
     "output_type": "execute_result"
    }
   ],
   "source": [
    "pgcd(24, 64)"
   ]
  },
  {
   "cell_type": "code",
   "execution_count": 14,
   "metadata": {},
   "outputs": [],
   "source": [
    "def pgcd_list(l):\n",
    "\td = l[0]\n",
    "\tn = len(l)\n",
    "\tfor i in range(1, n):\n",
    "\t\td = pgcd(d, l[i])\n",
    "\treturn d"
   ]
  },
  {
   "cell_type": "code",
   "execution_count": 15,
   "metadata": {},
   "outputs": [
    {
     "data": {
      "text/plain": [
       "4"
      ]
     },
     "execution_count": 15,
     "metadata": {},
     "output_type": "execute_result"
    }
   ],
   "source": [
    "pgcd_list([24, 64, 4])"
   ]
  },
  {
   "cell_type": "markdown",
   "metadata": {},
   "source": [
    "b)"
   ]
  },
  {
   "cell_type": "code",
   "execution_count": 19,
   "metadata": {},
   "outputs": [],
   "source": [
    "import unicodedata, re\n",
    "\n",
    "def convert_upper(s):\n",
    "\ts = unicode(s, 'utf-8')\n",
    "\ts = unicodedata.normalize('NFKD', s).encode('ascii', 'ignore')\n",
    "\ts = s.upper()\n",
    "\tautre = re.compile('[^A-Z]')\n",
    "\ts = autre.sub('', s)\n",
    "\treturn s"
   ]
  },
  {
   "cell_type": "markdown",
   "metadata": {},
   "source": [
    "c)"
   ]
  },
  {
   "cell_type": "code",
   "execution_count": 20,
   "metadata": {},
   "outputs": [
    {
     "ename": "NameError",
     "evalue": "name 'unicode' is not defined",
     "output_type": "error",
     "traceback": [
      "\u001b[0;31m---------------------------------------------------------------------------\u001b[0m",
      "\u001b[0;31mNameError\u001b[0m                                 Traceback (most recent call last)",
      "\u001b[0;32m<ipython-input-20-a48a5ea8dd8f>\u001b[0m in \u001b[0;36m<module>\u001b[0;34m\u001b[0m\n\u001b[1;32m      6\u001b[0m \u001b[0mf\u001b[0m\u001b[0;34m.\u001b[0m\u001b[0mclose\u001b[0m\u001b[0;34m(\u001b[0m\u001b[0;34m)\u001b[0m\u001b[0;34m\u001b[0m\u001b[0m\n\u001b[1;32m      7\u001b[0m \u001b[0;34m\u001b[0m\u001b[0m\n\u001b[0;32m----> 8\u001b[0;31m \u001b[0mtext\u001b[0m \u001b[0;34m=\u001b[0m \u001b[0mconvert_upper\u001b[0m\u001b[0;34m(\u001b[0m\u001b[0mtext\u001b[0m\u001b[0;34m)\u001b[0m\u001b[0;34m\u001b[0m\u001b[0m\n\u001b[0m\u001b[1;32m      9\u001b[0m \u001b[0mtextcrypte\u001b[0m \u001b[0;34m=\u001b[0m \u001b[0mcrypt\u001b[0m\u001b[0;34m(\u001b[0m\u001b[0mtext\u001b[0m\u001b[0;34m,\u001b[0m \u001b[0;34m\"LINUX\"\u001b[0m\u001b[0;34m)\u001b[0m\u001b[0;34m\u001b[0m\u001b[0m\n",
      "\u001b[0;32m<ipython-input-19-77abbd2f59a1>\u001b[0m in \u001b[0;36mconvert_upper\u001b[0;34m(s)\u001b[0m\n\u001b[1;32m      2\u001b[0m \u001b[0;34m\u001b[0m\u001b[0m\n\u001b[1;32m      3\u001b[0m \u001b[0;32mdef\u001b[0m \u001b[0mconvert_upper\u001b[0m\u001b[0;34m(\u001b[0m\u001b[0ms\u001b[0m\u001b[0;34m)\u001b[0m\u001b[0;34m:\u001b[0m\u001b[0;34m\u001b[0m\u001b[0m\n\u001b[0;32m----> 4\u001b[0;31m         \u001b[0ms\u001b[0m \u001b[0;34m=\u001b[0m \u001b[0municode\u001b[0m\u001b[0;34m(\u001b[0m\u001b[0ms\u001b[0m\u001b[0;34m,\u001b[0m \u001b[0;34m'utf-8'\u001b[0m\u001b[0;34m)\u001b[0m\u001b[0;34m\u001b[0m\u001b[0m\n\u001b[0m\u001b[1;32m      5\u001b[0m         \u001b[0ms\u001b[0m \u001b[0;34m=\u001b[0m \u001b[0municodedata\u001b[0m\u001b[0;34m.\u001b[0m\u001b[0mnormalize\u001b[0m\u001b[0;34m(\u001b[0m\u001b[0;34m'NFKD'\u001b[0m\u001b[0;34m,\u001b[0m \u001b[0ms\u001b[0m\u001b[0;34m)\u001b[0m\u001b[0;34m.\u001b[0m\u001b[0mencode\u001b[0m\u001b[0;34m(\u001b[0m\u001b[0;34m'ascii'\u001b[0m\u001b[0;34m,\u001b[0m \u001b[0;34m'ignore'\u001b[0m\u001b[0;34m)\u001b[0m\u001b[0;34m\u001b[0m\u001b[0m\n\u001b[1;32m      6\u001b[0m         \u001b[0ms\u001b[0m \u001b[0;34m=\u001b[0m \u001b[0ms\u001b[0m\u001b[0;34m.\u001b[0m\u001b[0mupper\u001b[0m\u001b[0;34m(\u001b[0m\u001b[0;34m)\u001b[0m\u001b[0;34m\u001b[0m\u001b[0m\n",
      "\u001b[0;31mNameError\u001b[0m: name 'unicode' is not defined"
     ]
    }
   ],
   "source": [
    "f = open(\"text.txt\", 'r')\n",
    "text = f.read(5000)\n",
    "'''n = len(text)\n",
    "f.seek(n/2.0)\n",
    "text = f.read(999)'''\n",
    "f.close()\n",
    "\n",
    "text = convert_upper(text)\n",
    "textcrypte = crypt(text, \"LINUX\")"
   ]
  },
  {
   "cell_type": "code",
   "execution_count": 31,
   "metadata": {},
   "outputs": [
    {
     "ename": "TabError",
     "evalue": "inconsistent use of tabs and spaces in indentation (<ipython-input-31-b11fe53ca2b1>, line 5)",
     "output_type": "error",
     "traceback": [
      "\u001b[0;36m  File \u001b[0;32m\"<ipython-input-31-b11fe53ca2b1>\"\u001b[0;36m, line \u001b[0;32m5\u001b[0m\n\u001b[0;31m    occu = s[i : i + to]\u001b[0m\n\u001b[0m                        ^\u001b[0m\n\u001b[0;31mTabError\u001b[0m\u001b[0;31m:\u001b[0m inconsistent use of tabs and spaces in indentation\n"
     ]
    }
   ],
   "source": [
    "def occu(s, to): #la liste des occurences, to pour tailles des occurences\n",
    "\td = {}\n",
    "\tn = len(s)\n",
    "\tfor i in range(n - (to - 1)):\n",
    "        occu = s[i : i + to]\n",
    "        if not(occu in d):\n",
    "            for k in range(i + to, n - (to - 1)):\n",
    "                test = s[k : k + to]\n",
    "                if occu == test:\n",
    "                    if not(occu in d):\n",
    "                        d[occu] = [i, k]\n",
    "                    else:\n",
    "                        d[occu] = d[occu] + [k]\n",
    "\treturn d"
   ]
  },
  {
   "cell_type": "code",
   "execution_count": 32,
   "metadata": {},
   "outputs": [],
   "source": [
    "def list_dist(d): #la liste des distances\n",
    "    L = []\n",
    "    for o in d:\n",
    "        l = d[o]\n",
    "        n = len(l)\n",
    "        for i in range(n - 1):\n",
    "            L = L + [abs(l[i] - l[i + 1])]\n",
    "    return L"
   ]
  },
  {
   "cell_type": "code",
   "execution_count": 33,
   "metadata": {},
   "outputs": [],
   "source": [
    "def tc(textcrypte): #la taille de la cle (tc)\n",
    "    to = 4\n",
    "    tc = pgcd_list(list_dist(occu(textcrypte, to)))\n",
    "    while(tc < 3):\n",
    "        to = to + 1\n",
    "        tc = pgcd_list(list_dist(occu(textcrypte, to)))\n",
    "    return tc"
   ]
  },
  {
   "cell_type": "markdown",
   "metadata": {},
   "source": [
    "d)"
   ]
  },
  {
   "cell_type": "code",
   "execution_count": 34,
   "metadata": {},
   "outputs": [],
   "source": [
    "def lpf(l): #la lettre la plus frequente dans une liste de lettre (lpf)\n",
    "    x = [chr(i) for i in range(65, 65 + 26)]\n",
    "    d = dict((i, 0) for i in x)\n",
    "    for i in l:\n",
    "        d[i] = d[i] + 1\n",
    "    c = d[\"A\"]\n",
    "    g = \"A\"\n",
    "    for i in d:\n",
    "        if d[i] > c:\n",
    "            c = d[i]\n",
    "            g = i\n",
    "    return g"
   ]
  },
  {
   "cell_type": "code",
   "execution_count": 36,
   "metadata": {},
   "outputs": [],
   "source": [
    "def cle(s, tc):\n",
    "    cle = '' \n",
    "    n = len(s)\n",
    "    for k in range(tc):\n",
    "        l = []\n",
    "        for i in range(n):\n",
    "            if i % tc == k:\n",
    "                l = l + [s[i]]\n",
    "        cle = cle + to_chr((to_int(lpf(l)) - to_int(\"E\"))% 26)\n",
    "    return cle"
   ]
  },
  {
   "cell_type": "code",
   "execution_count": 37,
   "metadata": {},
   "outputs": [
    {
     "ename": "NameError",
     "evalue": "name 'textcrypte' is not defined",
     "output_type": "error",
     "traceback": [
      "\u001b[0;31m---------------------------------------------------------------------------\u001b[0m",
      "\u001b[0;31mNameError\u001b[0m                                 Traceback (most recent call last)",
      "\u001b[0;32m<ipython-input-37-fc945753f717>\u001b[0m in \u001b[0;36m<module>\u001b[0;34m\u001b[0m\n\u001b[0;32m----> 1\u001b[0;31m \u001b[0mtc\u001b[0m \u001b[0;34m=\u001b[0m \u001b[0mtc\u001b[0m\u001b[0;34m(\u001b[0m\u001b[0mtextcrypte\u001b[0m\u001b[0;34m)\u001b[0m\u001b[0;34m\u001b[0m\u001b[0m\n\u001b[0m\u001b[1;32m      2\u001b[0m \u001b[0mcle\u001b[0m \u001b[0;34m=\u001b[0m \u001b[0mcle\u001b[0m\u001b[0;34m(\u001b[0m\u001b[0mtextcrypte\u001b[0m\u001b[0;34m,\u001b[0m \u001b[0mtc\u001b[0m\u001b[0;34m)\u001b[0m\u001b[0;34m\u001b[0m\u001b[0m\n\u001b[1;32m      3\u001b[0m \u001b[0mdecrypt\u001b[0m\u001b[0;34m(\u001b[0m\u001b[0mtextcrypte\u001b[0m\u001b[0;34m,\u001b[0m \u001b[0mcle\u001b[0m\u001b[0;34m)\u001b[0m\u001b[0;34m\u001b[0m\u001b[0m\n",
      "\u001b[0;31mNameError\u001b[0m: name 'textcrypte' is not defined"
     ]
    }
   ],
   "source": [
    "tc = tc(textcrypte)\n",
    "cle = cle(textcrypte, tc)\n",
    "decrypt(textcrypte, cle)"
   ]
  },
  {
   "cell_type": "markdown",
   "metadata": {},
   "source": [
    "Exo 11.3"
   ]
  },
  {
   "cell_type": "markdown",
   "metadata": {},
   "source": [
    "a)"
   ]
  },
  {
   "cell_type": "code",
   "execution_count": 38,
   "metadata": {},
   "outputs": [],
   "source": [
    "from random import randint\n",
    "import math\n",
    "\n",
    "def random_odd(k):\n",
    "    r = randint(2**(k - 1), 2**k)\n",
    "    while(r % 2 == 0):\n",
    "        r = randint(2**(k - 1), 2**k)\n",
    "    return r"
   ]
  },
  {
   "cell_type": "markdown",
   "metadata": {},
   "source": [
    "b)"
   ]
  },
  {
   "cell_type": "code",
   "execution_count": 39,
   "metadata": {},
   "outputs": [],
   "source": [
    "def isprime(n):\n",
    "    if n % 2 == 0 and n!= 2:\n",
    "        return False\n",
    "    d = 3\n",
    "    while(d <= math.sqrt(n)):\n",
    "        if n % d == 0:\n",
    "            return False\n",
    "        d = d + 2\n",
    "    return True"
   ]
  },
  {
   "cell_type": "markdown",
   "metadata": {},
   "source": [
    "c)"
   ]
  },
  {
   "cell_type": "code",
   "execution_count": 40,
   "metadata": {},
   "outputs": [],
   "source": [
    "def generate(k, primality):\n",
    "    r = random_odd(k)\n",
    "    while(not(primality(r))):\n",
    "        r = random_odd(k)\n",
    "    return r"
   ]
  },
  {
   "cell_type": "markdown",
   "metadata": {},
   "source": [
    "Exo 11.4"
   ]
  },
  {
   "cell_type": "markdown",
   "metadata": {},
   "source": [
    "a)"
   ]
  },
  {
   "cell_type": "code",
   "execution_count": 41,
   "metadata": {},
   "outputs": [],
   "source": [
    "def fermat_test(n):\n",
    "    for a in range(1, n):\n",
    "        if (a**(n-1) % n) != 1:\n",
    "            return False\n",
    "    return True"
   ]
  },
  {
   "cell_type": "code",
   "execution_count": null,
   "metadata": {},
   "outputs": [],
   "source": []
  }
 ],
 "metadata": {
  "kernelspec": {
   "display_name": "Python 2",
   "language": "python",
   "name": "python2"
  },
  "language_info": {
   "codemirror_mode": {
    "name": "ipython",
    "version": 3
   },
   "file_extension": ".py",
   "mimetype": "text/x-python",
   "name": "python",
   "nbconvert_exporter": "python",
   "pygments_lexer": "ipython3",
   "version": "3.6.6"
  }
 },
 "nbformat": 4,
 "nbformat_minor": 2
}
