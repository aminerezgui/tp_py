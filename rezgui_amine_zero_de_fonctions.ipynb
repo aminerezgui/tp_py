{
 "cells": [
  {
   "cell_type": "markdown",
   "metadata": {},
   "source": [
    "Choix n°2 du chapitre à rendre: zero de fonctions"
   ]
  },
  {
   "cell_type": "markdown",
   "metadata": {},
   "source": [
    "Exo 7.1"
   ]
  },
  {
   "cell_type": "markdown",
   "metadata": {},
   "source": [
    "a)"
   ]
  },
  {
   "cell_type": "code",
   "execution_count": 7,
   "metadata": {},
   "outputs": [],
   "source": [
    "def newton1d(f, df,x0, eps, N):\n",
    "        x = x0\n",
    "        i = 0\n",
    "        while abs(f(x)) >  eps and i < N:          #les critères à respecter\n",
    "                x = x - f(x)/df(x)                 #calcul de x(i+1) à l'aide de x(i)\n",
    "                i = i + 1\n",
    "        if i == N :                                #si les N itérations n'ont pas suffit\n",
    "                return False                       #on retourne le booléén false synonyme d'erreur\n",
    "        else :\n",
    "                return x                           #sinon on retourne x pour lequel f(x) est suffisamment proche de 0"
   ]
  },
  {
   "cell_type": "markdown",
   "metadata": {},
   "source": [
    "b)"
   ]
  },
  {
   "cell_type": "code",
   "execution_count": 8,
   "metadata": {},
   "outputs": [],
   "source": [
    "import math\n",
    "\n",
    "def f(x):                                         #résoudre l'équation donné revient à trouver un zéro de f\n",
    "    return math.exp(-1 * x) - x\n",
    "def df(x):                                        #on aura besoin de sa dérivé\n",
    "    return -1 * math.exp(-1 * x) - 1"
   ]
  },
  {
   "cell_type": "code",
   "execution_count": 7,
   "metadata": {},
   "outputs": [
    {
     "data": {
      "text/plain": [
       "0.5671432904097838"
      ]
     },
     "execution_count": 7,
     "metadata": {},
     "output_type": "execute_result"
    }
   ],
   "source": [
    "newton1d(f, df,1, 1.e-10, 1000)"
   ]
  },
  {
   "cell_type": "markdown",
   "metadata": {},
   "source": [
    "c)"
   ]
  },
  {
   "cell_type": "code",
   "execution_count": 9,
   "metadata": {},
   "outputs": [],
   "source": [
    "def racine(x, n):\n",
    "    def f(y):                                    #calculer la racine n°ieme de x revient à chercher un zéro de f definie localement\n",
    "        return y**n - x\n",
    "    def df(y):                                   #sa dérivé\n",
    "        return n * y**(n - 1)\n",
    "    return newton1d(f, df, 1.0 , 1.e-10, 1000)"
   ]
  },
  {
   "cell_type": "code",
   "execution_count": 10,
   "metadata": {},
   "outputs": [
    {
     "data": {
      "text/plain": [
       "2.0"
      ]
     },
     "execution_count": 10,
     "metadata": {},
     "output_type": "execute_result"
    }
   ],
   "source": [
    "racine(8, 3)"
   ]
  },
  {
   "cell_type": "markdown",
   "metadata": {},
   "source": [
    "d)"
   ]
  },
  {
   "cell_type": "code",
   "execution_count": 11,
   "metadata": {},
   "outputs": [],
   "source": [
    "def secant1d(f, x0, x1, eps = 1.e-10, N = 1000):\n",
    "    i = 0\n",
    "    u = x0\n",
    "    v = x1\n",
    "    x = x0\n",
    "    while abs(f(x)) > eps and i < N:\n",
    "        x = (u * f(v) - v * f(u)) / (f(v) - f(u))  #calcul de x(i+1) à l'aide de x(i) et x(i-1)\n",
    "        u = v                                      #x(i-1) devient x(i)\n",
    "        v = x                                      #x(i) devient x(i+1)\n",
    "        i = i +1\n",
    "    if i == N:\n",
    "        return false\n",
    "    else:\n",
    "        return x"
   ]
  },
  {
   "cell_type": "code",
   "execution_count": 13,
   "metadata": {},
   "outputs": [
    {
     "data": {
      "text/plain": [
       "0.5671432904097046"
      ]
     },
     "execution_count": 13,
     "metadata": {},
     "output_type": "execute_result"
    }
   ],
   "source": [
    "secant1d(f, 0, 1)"
   ]
  },
  {
   "cell_type": "markdown",
   "metadata": {},
   "source": [
    "Exo 7.2"
   ]
  },
  {
   "cell_type": "markdown",
   "metadata": {},
   "source": [
    "a)"
   ]
  },
  {
   "cell_type": "code",
   "execution_count": 14,
   "metadata": {},
   "outputs": [],
   "source": [
    "def newton(f, df, x0, eps, N):\n",
    "    x = x0\n",
    "    i = 0\n",
    "    while np.linalg.norm(f(x)) > eps and i < N: #on utilise la norme 2 pour evaluer la distance de f(x) à 0(de R^n)\n",
    "        x = x - np.linalg.solve(df(x), f(x))    #la quantité (df(xi))⁻1 . f(xi) est l'unique solution V du système df(x(i)).V = f(x(i))\n",
    "        i = i + 1\n",
    "    if i == N:\n",
    "        return False\n",
    "    else:\n",
    "        return x"
   ]
  },
  {
   "cell_type": "markdown",
   "metadata": {},
   "source": [
    "b)"
   ]
  },
  {
   "cell_type": "code",
   "execution_count": 16,
   "metadata": {},
   "outputs": [],
   "source": [
    "import numpy as np"
   ]
  },
  {
   "cell_type": "code",
   "execution_count": 15,
   "metadata": {},
   "outputs": [],
   "source": [
    "def g(x):                                                                                             #resoudre le système donné revient à chercher un zéro de g\n",
    "\treturn np.array([np.cos(x[0]) - np.sin(x[1]), np.exp(-1 * x[0]) - np.cos(x[1])])                  \n",
    "def dg(x):                                                                                            #la matrice jacobienne de g en tout point (x,y)\n",
    "\treturn np.array([[-1 * np.sin(x[0]), -1 * np.cos(x[1])], [-1 * np.exp(-1 * x[0]), np.sin(x[1])]]) "
   ]
  },
  {
   "cell_type": "code",
   "execution_count": 17,
   "metadata": {},
   "outputs": [
    {
     "data": {
      "text/plain": [
       "array([0.58853274, 0.98226358])"
      ]
     },
     "execution_count": 17,
     "metadata": {},
     "output_type": "execute_result"
    }
   ],
   "source": [
    "newton(g, dg, np.array([0, 1]), 1.e-12, 10000)"
   ]
  },
  {
   "cell_type": "markdown",
   "metadata": {},
   "source": [
    "Exo 7.3"
   ]
  },
  {
   "cell_type": "markdown",
   "metadata": {},
   "source": [
    "a)"
   ]
  },
  {
   "cell_type": "code",
   "execution_count": 18,
   "metadata": {},
   "outputs": [],
   "source": [
    "import cmath                                       #introduire la bibliothèque des complexes est la seule chose à adapter !"
   ]
  },
  {
   "cell_type": "code",
   "execution_count": 19,
   "metadata": {},
   "outputs": [],
   "source": [
    "def racinec(x0, x = 1, n = 3):             #cette fonction calcule une racine troisième de l'unité à partir d'un x0 choisi\n",
    "        def f(y):\n",
    "                return y**n - x\n",
    "        def df(y):\n",
    "                return n * y**(n - 1)\n",
    "        return newton1d(f, df, x0 , 1.e-10, 1000)"
   ]
  },
  {
   "cell_type": "code",
   "execution_count": 20,
   "metadata": {},
   "outputs": [
    {
     "data": {
      "text/plain": [
       "1.0000000000000002"
      ]
     },
     "execution_count": 20,
     "metadata": {},
     "output_type": "execute_result"
    }
   ],
   "source": [
    "racinec(2)                                #la racine exp(i * 0)"
   ]
  },
  {
   "cell_type": "code",
   "execution_count": 21,
   "metadata": {},
   "outputs": [
    {
     "data": {
      "text/plain": [
       "(-0.5+0.8660254037844386j)"
      ]
     },
     "execution_count": 21,
     "metadata": {},
     "output_type": "execute_result"
    }
   ],
   "source": [
    "racinec(2*1j)                             #la racine exp(2i * pi/3)"
   ]
  },
  {
   "cell_type": "code",
   "execution_count": 22,
   "metadata": {},
   "outputs": [
    {
     "data": {
      "text/plain": [
       "(-0.5-0.8660254037844386j)"
      ]
     },
     "execution_count": 22,
     "metadata": {},
     "output_type": "execute_result"
    }
   ],
   "source": [
    "racinec(-2* 1j)                           #la racine exp(4i * pi/3)"
   ]
  },
  {
   "cell_type": "markdown",
   "metadata": {},
   "source": [
    "b)"
   ]
  },
  {
   "cell_type": "code",
   "execution_count": null,
   "metadata": {},
   "outputs": [],
   "source": [
    "import matplotlib.pyplot as plt"
   ]
  },
  {
   "cell_type": "code",
   "execution_count": 23,
   "metadata": {},
   "outputs": [],
   "source": [
    "def graph(nb):                            #nb représente le nombre points entre -3 et 3\n",
    "    x = np.linspace(-3, 3, nb)\n",
    "    X, Y = np.meshgrid(x, x)              #meshgrid permet d'avoir l'ensemble points de [-3, 3]x[-3, 3]\n",
    "    Z = X + 1j * Y                        #Z est la matrice représentant l'ensemble des z0\n",
    "    n = np.shape(Z)\n",
    "    W = np.zeros(n, dtype = int)          #construisons W qui est la matrice représentant les racines troisièmes de l'unité en fonction de chaque z0\n",
    "    for i in range(n[0]):\n",
    "        for k in range(n[1]):\n",
    "            W[i][k] = cmath.phase(racinec(Z[i][k])) #seules les arguments nous importent pour différencier les 3 racines troisièmes de l'unité\n",
    "    plt.pcolor(X, Y, W)\n",
    "    plt.show()                            #remarquons que plus nb est grand, plus le graphique est net et précis !"
   ]
  },
  {
   "cell_type": "code",
   "execution_count": null,
   "metadata": {},
   "outputs": [],
   "source": [
    "graph(500)"
   ]
  }
 ],
 "metadata": {
  "anaconda-cloud": {},
  "kernelspec": {
   "display_name": "Python 2",
   "language": "python",
   "name": "python2"
  },
  "language_info": {
   "codemirror_mode": {
    "name": "ipython",
    "version": 3
   },
   "file_extension": ".py",
   "mimetype": "text/x-python",
   "name": "python",
   "nbconvert_exporter": "python",
   "pygments_lexer": "ipython3",
   "version": "3.6.6"
  }
 },
 "nbformat": 4,
 "nbformat_minor": 1
}
