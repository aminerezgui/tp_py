{
 "cells": [
  {
   "cell_type": "markdown",
   "metadata": {},
   "source": [
    "Choix n°1 du chapitre à rendre : Théorie des graphes"
   ]
  },
  {
   "cell_type": "markdown",
   "metadata": {},
   "source": [
    "Exo 5.1"
   ]
  },
  {
   "cell_type": "markdown",
   "metadata": {},
   "source": [
    "a)"
   ]
  },
  {
   "cell_type": "code",
   "execution_count": 4,
   "metadata": {},
   "outputs": [],
   "source": [
    "a = {1:{2, 5} , 2:{1, 5, 3}, 3:{2, 4}, 4:{5, 6}, 5:{4, 1, 2}, 6:{4}}\n",
    "b = {1: set([2, 3, 4, 5]), 2: set([1, 3, 4, 5]), 3: set([1, 2, 4, 5]), 4: set([1, 2, 3, 5]), 5: set([1, 2, 3, 4])}\n",
    "c = {1:{2, 5, 6}, 2:{1, 3, 7},3:{2, 4, 8},4:{3, 5, 9},5:{1, 4, 10}, 6:{1, 8, 9}, 7:{2, 9, 10}, 8:{3, 6, 10}, 9:{4, 7, 6}, 10:{5, 7, 8}}"
   ]
  },
  {
   "cell_type": "markdown",
   "metadata": {},
   "source": [
    "b)"
   ]
  },
  {
   "cell_type": "code",
   "execution_count": 2,
   "metadata": {},
   "outputs": [],
   "source": [
    "def complet(n):\n",
    "\td = {}                           #création d'un dictionnaire d\n",
    "\ti = 1\n",
    "\twhile i < n or i == n:\n",
    "\t\td[i] = set()                 #création des clés = sommets i de 1 à n\n",
    "\t\tk = 1\n",
    "\t\twhile k < n or k == n:\n",
    "\t\t\tif k != i:\n",
    "\t\t\t\td[i].add(k)          #ajout des voisins de i, ie tous sauf i\n",
    "\t\t\tk = k + 1\n",
    "\t\ti = i + 1\n",
    "\treturn d"
   ]
  },
  {
   "cell_type": "code",
   "execution_count": 5,
   "metadata": {},
   "outputs": [
    {
     "data": {
      "text/plain": [
       "{1: {2, 3, 4}, 2: {1, 3, 4}, 3: {1, 2, 4}, 4: {1, 2, 3}}"
      ]
     },
     "execution_count": 5,
     "metadata": {},
     "output_type": "execute_result"
    }
   ],
   "source": [
    "complet(4)"
   ]
  },
  {
   "cell_type": "markdown",
   "metadata": {
    "collapsed": true
   },
   "source": [
    "c)"
   ]
  },
  {
   "cell_type": "code",
   "execution_count": 6,
   "metadata": {},
   "outputs": [],
   "source": [
    "def corriger(g):\n",
    "\td = g.copy()                     #création d'une copie d du graphe g\n",
    "\tfor i in g:                      #on parcourt les sommets i de g\n",
    "\t\tfor k in g[i]:               #puis les voisins k de i\n",
    "\t\t\tif not(k in g):          #si k n'est pas un sommet alors on le crée dans d\n",
    "\t\t\t\tif k in d:\n",
    "\t\t\t\t\td[k].add(i)      #puis on rend i un voisin de k dans le graphe d\n",
    "\t\t\t\telse :\n",
    "\t\t\t\t\td[k] = set()\n",
    "\t\t\t\t\td[k].add(i)\n",
    "\treturn d"
   ]
  },
  {
   "cell_type": "code",
   "execution_count": 8,
   "metadata": {},
   "outputs": [
    {
     "data": {
      "text/plain": [
       "{1: {2, 3}, 2: {1, 3, 4}, 3: {1, 2}, 4: {2}}"
      ]
     },
     "execution_count": 8,
     "metadata": {},
     "output_type": "execute_result"
    }
   ],
   "source": [
    "corriger({1 : {2,3}, 2 : {1, 3, 4}})"
   ]
  },
  {
   "cell_type": "markdown",
   "metadata": {},
   "source": [
    "d)"
   ]
  },
  {
   "cell_type": "code",
   "execution_count": 9,
   "metadata": {},
   "outputs": [],
   "source": [
    "def aretes(g):\n",
    "\ta = set()                       #création de l'ensemble des arêtes\n",
    "\tfor i in g:                     \n",
    "\t\tfor k in g[i]:              #si k est un voisin de i\n",
    "\t\t\tif not((k,i) in a):     #on evite les doublons\n",
    "\t\t\t\ta.add((i, k))\n",
    "\treturn a"
   ]
  },
  {
   "cell_type": "code",
   "execution_count": 10,
   "metadata": {},
   "outputs": [
    {
     "data": {
      "text/plain": [
       "{(1, 2), (1, 5), (2, 3), (2, 5), (3, 4), (4, 5), (4, 6)}"
      ]
     },
     "execution_count": 10,
     "metadata": {},
     "output_type": "execute_result"
    }
   ],
   "source": [
    "aretes(a)"
   ]
  },
  {
   "cell_type": "markdown",
   "metadata": {},
   "source": [
    "Exo 5.2"
   ]
  },
  {
   "cell_type": "markdown",
   "metadata": {},
   "source": [
    "a) Si X possède n sommets alors le nombre de sous-ensembles de cardinal 3 est:\n",
    "3 parmi n = n!/(3!*(n - 3)!)"
   ]
  },
  {
   "cell_type": "markdown",
   "metadata": {},
   "source": [
    "b)"
   ]
  },
  {
   "cell_type": "code",
   "execution_count": 11,
   "metadata": {},
   "outputs": [],
   "source": [
    "def triangles(g):\n",
    "\te = set()                       #création de l'ensemble des triangles\n",
    "\tfor i in g:\n",
    "\t\tfor j in g[i]:              #on parcours les voisins j de i\n",
    "\t\t\tfor k in g[j]:          #puis les voisins k de j\n",
    "\t\t\t\tif k in g[i]:       #si k est voisin de i\n",
    "\t\t\t\t\tl = [i, j, k]   #alors i,j,k est un triangle\n",
    "\t\t\t\t\tl.sort()        #on trie afin d'avoir une écriture unique\n",
    "\t\t\t\t\tt = tuple(l)\n",
    "\t\t\t\t\tif not(t in e): #pour éviter les doublons\n",
    "\t\t\t\t\t\te.add(t)\n",
    "\treturn e"
   ]
  },
  {
   "cell_type": "code",
   "execution_count": 13,
   "metadata": {},
   "outputs": [
    {
     "data": {
      "text/plain": [
       "{(1, 2, 3),\n",
       " (1, 2, 4),\n",
       " (1, 2, 5),\n",
       " (1, 3, 4),\n",
       " (1, 3, 5),\n",
       " (1, 4, 5),\n",
       " (2, 3, 4),\n",
       " (2, 3, 5),\n",
       " (2, 4, 5),\n",
       " (3, 4, 5)}"
      ]
     },
     "execution_count": 13,
     "metadata": {},
     "output_type": "execute_result"
    }
   ],
   "source": [
    "triangles(b)"
   ]
  },
  {
   "cell_type": "code",
   "execution_count": 14,
   "metadata": {},
   "outputs": [],
   "source": [
    "import numpy as np"
   ]
  },
  {
   "cell_type": "markdown",
   "metadata": {},
   "source": [
    "c)"
   ]
  },
  {
   "cell_type": "code",
   "execution_count": 15,
   "metadata": {},
   "outputs": [],
   "source": [
    "def matadja(g):\n",
    "\tn = len(g)                        #n = au nombre de sommets de du graphe g\n",
    "\tm = np.zeros((n,n), dtype = int)  #création d'une matrice de taille nxn\n",
    "\tfor a in aretes(g):               #on parcours les arêtes de g \n",
    "\t\tm[a[0] - 1][a[1] - 1] = 1     #a est un tuple composé de 2 cordonnées indicé par 0 et 1 \n",
    "\t\tm[a[1] - 1][a[0] - 1] = 1     #on n'oublie pas l'autre côté de la diagonale\n",
    "\treturn m"
   ]
  },
  {
   "cell_type": "code",
   "execution_count": 16,
   "metadata": {},
   "outputs": [
    {
     "data": {
      "text/plain": [
       "array([[0, 1, 0, 0, 1, 1, 0, 0, 0, 0],\n",
       "       [1, 0, 1, 0, 0, 0, 1, 0, 0, 0],\n",
       "       [0, 1, 0, 1, 0, 0, 0, 1, 0, 0],\n",
       "       [0, 0, 1, 0, 1, 0, 0, 0, 1, 0],\n",
       "       [1, 0, 0, 1, 0, 0, 0, 0, 0, 1],\n",
       "       [1, 0, 0, 0, 0, 0, 0, 1, 1, 0],\n",
       "       [0, 1, 0, 0, 0, 0, 0, 0, 1, 1],\n",
       "       [0, 0, 1, 0, 0, 1, 0, 0, 0, 1],\n",
       "       [0, 0, 0, 1, 0, 1, 1, 0, 0, 0],\n",
       "       [0, 0, 0, 0, 1, 0, 1, 1, 0, 0]])"
      ]
     },
     "execution_count": 16,
     "metadata": {},
     "output_type": "execute_result"
    }
   ],
   "source": [
    "matadja(c)"
   ]
  },
  {
   "cell_type": "markdown",
   "metadata": {},
   "source": [
    "d)"
   ]
  },
  {
   "cell_type": "code",
   "execution_count": 17,
   "metadata": {},
   "outputs": [],
   "source": [
    "def graphe(m):\n",
    "\tg = {}                           #création d'un graphe g\n",
    "\tn = np.shape(m)[0]               #n sera le nombre de sommets de g\n",
    "\tfor i in range(1, n+1):\n",
    "\t\tg[i] = set()                 \n",
    "\tfor i in range(n):               #on parcours la matrice m\n",
    "\t\tfor k in  range(n):        \n",
    "\t\t\tif m[i][k] == 1:         \n",
    "\t\t\t\tg[i + 1].add(k + 1)  #on fait attention à l'index \n",
    "\treturn g"
   ]
  },
  {
   "cell_type": "code",
   "execution_count": 18,
   "metadata": {},
   "outputs": [
    {
     "data": {
      "text/plain": [
       "{1: {2, 5}, 2: {1, 3, 5}, 3: {2, 4}, 4: {3, 5, 6}, 5: {1, 2, 4}, 6: {4}}"
      ]
     },
     "execution_count": 18,
     "metadata": {},
     "output_type": "execute_result"
    }
   ],
   "source": [
    "m = matadja(a)\n",
    "graphe(m)"
   ]
  }
 ],
 "metadata": {
  "anaconda-cloud": {},
  "kernelspec": {
   "display_name": "Python 2",
   "language": "python",
   "name": "python2"
  },
  "language_info": {
   "codemirror_mode": {
    "name": "ipython",
    "version": 3
   },
   "file_extension": ".py",
   "mimetype": "text/x-python",
   "name": "python",
   "nbconvert_exporter": "python",
   "pygments_lexer": "ipython3",
   "version": "3.6.6"
  }
 },
 "nbformat": 4,
 "nbformat_minor": 1
}
