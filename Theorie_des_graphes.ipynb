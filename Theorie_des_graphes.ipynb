{
 "cells": [
  {
   "cell_type": "markdown",
   "metadata": {},
   "source": [
    "Choix n°1 du chapitre à rendre : Théorie des graphes"
   ]
  },
  {
   "cell_type": "markdown",
   "metadata": {},
   "source": [
    "Exo 5.1"
   ]
  },
  {
   "cell_type": "markdown",
   "metadata": {},
   "source": [
    "a)"
   ]
  },
  {
   "cell_type": "code",
   "execution_count": null,
   "metadata": {
    "collapsed": true
   },
   "outputs": [],
   "source": [
    "a = {1:{2, 5} , 2:{1, 5, 3}, 3:{2, 4}, 4:{5, 6}, 5:{4, 1, 2}, 6:{4}}\n",
    "b = {1: set([2, 3, 4, 5]), 2: set([1, 3, 4, 5]), 3: set([1, 2, 4, 5]), 4: set([1, 2, 3, 5]), 5: set([1, 2, 3, 4])}\n",
    "c = {1:{2, 5, 6}, 2:{1, 3, 7},3:{2, 4, 8},4:{3, 5, 9},5:{1, 4, 10}, 6:{1, 8, 9}, 7:{2, 9, 10}, 8:{3, 6, 10}, 9:{4, 7, 6}, 10:{5, 7, 8}}"
   ]
  },
  {
   "cell_type": "markdown",
   "metadata": {},
   "source": [
    "b)"
   ]
  },
  {
   "cell_type": "code",
   "execution_count": 12,
   "metadata": {
    "collapsed": true
   },
   "outputs": [],
   "source": [
    "def complet(n):\n",
    "\td = {}\n",
    "\ti = 1\n",
    "\twhile i < n or i == n:\n",
    "\t\td[i] = set()\n",
    "\t\tk = 1\n",
    "\t\twhile k < n or k == n:\n",
    "\t\t\tif k != i:\n",
    "\t\t\t\td[i].add(k)\n",
    "\t\t\tk = k + 1\n",
    "\t\ti = i + 1\n",
    "\treturn d"
   ]
  },
  {
   "cell_type": "code",
   "execution_count": 13,
   "metadata": {
    "collapsed": false
   },
   "outputs": [
    {
     "data": {
      "text/plain": [
       "{1: {2, 3, 4}, 2: {1, 3, 4}, 3: {1, 2, 4}, 4: {1, 2, 3}}"
      ]
     },
     "execution_count": 13,
     "metadata": {},
     "output_type": "execute_result"
    }
   ],
   "source": [
    "complet(4)"
   ]
  },
  {
   "cell_type": "code",
   "execution_count": null,
   "metadata": {
    "collapsed": true
   },
   "outputs": [],
   "source": []
  }
 ],
 "metadata": {
  "anaconda-cloud": {},
  "kernelspec": {
   "display_name": "Python [default]",
   "language": "python",
   "name": "python2"
  },
  "language_info": {
   "codemirror_mode": {
    "name": "ipython",
    "version": 2
   },
   "file_extension": ".py",
   "mimetype": "text/x-python",
   "name": "python",
   "nbconvert_exporter": "python",
   "pygments_lexer": "ipython2",
   "version": "2.7.12"
  }
 },
 "nbformat": 4,
 "nbformat_minor": 1
}
